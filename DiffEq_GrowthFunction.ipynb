{
 "cells": [
  {
   "cell_type": "code",
   "execution_count": 115,
   "id": "7a1f5668",
   "metadata": {},
   "outputs": [],
   "source": [
    "import numpy as np\n",
    "import matplotlib.pyplot as plt\n",
    "from scipy.integrate import solve_ivp # as suggested by Nikhil\n",
    "import warnings; warnings.filterwarnings('ignore')\n",
    "from scipy.interpolate import UnivariateSpline\n",
    "plt.rc('axes', lw =2); plt.rc('font',family = 'serif'); plt.rc('text', usetex = True)"
   ]
  },
  {
   "cell_type": "code",
   "execution_count": 116,
   "id": "c08ab9af",
   "metadata": {},
   "outputs": [],
   "source": [
    "global OmegaM0\n",
    "OmegaM0 = 0.3175\n",
    "\n",
    "global OmegaDE0\n",
    "OmegaDE0 = 1- 0.3175"
   ]
  },
  {
   "cell_type": "code",
   "execution_count": 117,
   "id": "456e362a",
   "metadata": {},
   "outputs": [],
   "source": [
    "def Omega_DE(a):\n",
    "    numerator = OmegaDE0\n",
    "    denominator = (OmegaM0*a**(-3) + OmegaDE0)\n",
    "    return numerator/denominator"
   ]
  },
  {
   "cell_type": "code",
   "execution_count": 118,
   "id": "4cdcd088",
   "metadata": {},
   "outputs": [],
   "source": [
    "def diffEq(ln_a, sols):\n",
    "    a = np.exp(ln_a)\n",
    "    g, gdot = sols\n",
    "    gddot = -(2.5 + 1.5 * Omega_DE(a)) * gdot - (3 * Omega_DE(a) * g) \n",
    "    return [gdot, gddot]"
   ]
  },
  {
   "cell_type": "code",
   "execution_count": 119,
   "id": "526fa56c",
   "metadata": {},
   "outputs": [],
   "source": [
    "ln_a_vals = np.linspace(-5,5,5000)\n",
    "a_vals = np.exp(ln_a_vals)\n",
    "z_vals = 1/a_vals - 1"
   ]
  },
  {
   "cell_type": "code",
   "execution_count": 120,
   "id": "93dcdcae",
   "metadata": {},
   "outputs": [],
   "source": [
    "res = solve_ivp(fun = diffEq, t_span = [-5,5], y0 = [1,0], t_eval = ln_a_vals)"
   ]
  },
  {
   "cell_type": "code",
   "execution_count": 129,
   "id": "5221cb2c",
   "metadata": {},
   "outputs": [
    {
     "name": "stdout",
     "output_type": "stream",
     "text": [
      "g at a=1 is 0.78968\n"
     ]
    }
   ],
   "source": [
    "calc_g = res.y[0][np.where(np.abs(a_vals - 1) < 1e-3)]\n",
    "print('g at a=1 is %.5f'%calc_g)"
   ]
  },
  {
   "cell_type": "code",
   "execution_count": 122,
   "id": "2c391d67",
   "metadata": {},
   "outputs": [],
   "source": [
    "normalized_D = a_vals*res.y[0]/calc_g"
   ]
  },
  {
   "cell_type": "code",
   "execution_count": 131,
   "id": "a828a200",
   "metadata": {},
   "outputs": [
    {
     "data": {
      "image/png": "[encoded data removed]",
      "text/plain": [
       "<Figure size 400x400 with 1 Axes>"
      ]
     },
     "metadata": {},
     "output_type": "display_data"
    }
   ],
   "source": [
    "plt.figure(figsize = (4,4))\n",
    "\n",
    "## normalize such that D(z = 0) = D(a = 1) = 1\n",
    "plt.plot(1/np.exp(res.t)-1, normalized_D, color = 'orange', label = 'Normalized D(z), Integral',\n",
    "         lw = 5, alpha = 0.5)\n",
    "\n",
    "D_normalized = [1, 0.76872625, 0.60653086, 0.41693915] ## from other notebook\n",
    "redshifts = [0,0.5,1,2]\n",
    "\n",
    "spl = UnivariateSpline(redshifts, D_normalized)\n",
    "test_z = np.linspace(0,2,200)\n",
    "\n",
    "plt.plot(test_z, spl(test_z), color = 'mediumblue', label = 'Normalized D(z) from Sim.')\n",
    "\n",
    "\n",
    "# aesthetics\n",
    "ax = plt.gca()\n",
    "ax.minorticks_on()\n",
    "ax.tick_params(which =  'major', direction = 'in', length = 6, width = 1.5)\n",
    "ax.tick_params(which =  'minor', direction = 'in', length = 3, width = 1.25)\n",
    "plt.xlim(0,5); plt.ylim(0,1.2); plt.xlabel('$z$', fontsize = 14); plt.ylabel('$D(z)$', fontsize = 14)\n",
    "plt.legend(loc = 'upper right')\n",
    "plt.savefig('CompareGrowthFunctions.pdf', bbox_inches = 'tight')"
   ]
  },
  {
   "cell_type": "code",
   "execution_count": null,
   "id": "5fdd8309",
   "metadata": {},
   "outputs": [],
   "source": []
  },
  {
   "cell_type": "code",
   "execution_count": null,
   "id": "4c243e88",
   "metadata": {},
   "outputs": [],
   "source": []
  }
 ],
 "metadata": {
  "kernelspec": {
   "display_name": "Python 3",
   "language": "python",
   "name": "python3"
  },
  "language_info": {
   "codemirror_mode": {
    "name": "ipython",
    "version": 3
   },
   "file_extension": ".py",
   "mimetype": "text/x-python",
   "name": "python",
   "nbconvert_exporter": "python",
   "pygments_lexer": "ipython3",
   "version": "3.7.16"
  }
 },
 "nbformat": 4,
 "nbformat_minor": 5
}

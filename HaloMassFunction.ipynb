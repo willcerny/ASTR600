{
 "cells": [
  {
   "cell_type": "code",
   "execution_count": 1,
   "id": "f72b8588",
   "metadata": {},
   "outputs": [],
   "source": [
    "import matplotlib.pyplot as plt \n",
    "%matplotlib inline \n",
    "import numpy as np\n",
    "import pandas as pd\n",
    "from scipy.integrate import quad\n",
    "from scipy.interpolate import UnivariateSpline, interp1d\n",
    "import warnings;warnings.filterwarnings('ignore')\n",
    "from tqdm import tqdm\n",
    "import astropy.units as u\n",
    "from astropy.constants import G\n",
    "\n",
    "plt.rc('font', family = 'serif')\n",
    "plt.rc('axes', lw = 2); plt.rc('text',usetex = True)"
   ]
  },
  {
   "cell_type": "markdown",
   "id": "e0fccc5e",
   "metadata": {},
   "source": [
    "### Cosmological parameters"
   ]
  },
  {
   "cell_type": "code",
   "execution_count": 2,
   "id": "712c8717",
   "metadata": {},
   "outputs": [],
   "source": [
    "OmegaM0 = 0.3175,\n",
    "OmegaR0 = 8.2 * 10**(-5)## see overleaf\n",
    "h = 0.6711\n",
    "H0 = 100*h*u.km/u.s/u.Mpc\n",
    "rhobarM = 3*H0**2 / (8*np.pi*G)\n",
    "rhobarM_h2MsunMpc3 = (rhobarM.to(u.Msun/u.Mpc**3) / h**2).value"
   ]
  },
  {
   "cell_type": "markdown",
   "id": "6017fec5",
   "metadata": {},
   "source": [
    "### Carry-over material from other notebook"
   ]
  },
  {
   "cell_type": "code",
   "execution_count": 3,
   "id": "acbde9ac",
   "metadata": {},
   "outputs": [],
   "source": [
    "df = pd.read_csv('./linear_pk.txt', delim_whitespace = True, header = None, skiprows = 7)\n",
    "df.columns = ['k','Pk']\n",
    "interpolator = interp1d(df.k,df.Pk)"
   ]
  },
  {
   "cell_type": "code",
   "execution_count": 4,
   "id": "311b4e52",
   "metadata": {},
   "outputs": [],
   "source": [
    "def tophat_filter(k, R):\n",
    "    wtilde = 3 * (k*R)**-3 * (np.sin(k*R) - (k*R) * np.cos(k*R))\n",
    "    return wtilde"
   ]
  },
  {
   "cell_type": "code",
   "execution_count": 5,
   "id": "71cdf2ba",
   "metadata": {},
   "outputs": [
    {
     "name": "stdout",
     "output_type": "stream",
     "text": [
      "0.834\n"
     ]
    }
   ],
   "source": [
    "def mass_variance_integrand(k,R=8): \n",
    "    wtilde_squared = tophat_filter(k,R)**2 \n",
    "    integrand = (1/(2*np.pi**2)) * interpolator(k) * wtilde_squared * k**2 \n",
    "    return integrand \n",
    "\n",
    "k_i = 0 \n",
    "k_f = 100\n",
    "result = quad(mass_variance_integrand,k_i,k_f)\n",
    "sigma8=np.sqrt(result[0])\n",
    "print(f'{sigma8:.3f}')"
   ]
  },
  {
   "cell_type": "code",
   "execution_count": 6,
   "id": "85bd7c26",
   "metadata": {},
   "outputs": [],
   "source": [
    "growth_function_D = UnivariateSpline([0,0.5,1,2],[1, 0.76872625,0.60653086,0.41693915])"
   ]
  },
  {
   "cell_type": "markdown",
   "id": "f36449ae",
   "metadata": {},
   "source": [
    "### Set up functions for main calculations + some helper functions"
   ]
  },
  {
   "cell_type": "code",
   "execution_count": 7,
   "id": "4fb569d8",
   "metadata": {},
   "outputs": [],
   "source": [
    "def convert_M_to_R(M):      \n",
    "        R = (M / ((4/3 * np.pi * rhobarM_h2MsunMpc3)))**(1/3)\n",
    "        return R"
   ]
  },
  {
   "cell_type": "code",
   "execution_count": 8,
   "id": "1ee49f0d",
   "metadata": {},
   "outputs": [],
   "source": [
    "def convert_R_to_M(R):      \n",
    "        M = (4/3) * rhobarM_h2MsunMpc3 * np.pi * R**3 \n",
    "        return M"
   ]
  },
  {
   "cell_type": "code",
   "execution_count": 9,
   "id": "5e895ea5",
   "metadata": {},
   "outputs": [],
   "source": [
    "def mass_variance(M): \n",
    "    RList = convert_M_to_R(M)\n",
    "    k_i = 0 \n",
    "    k_f = 100\n",
    "    sigmaM = np.asarray([np.sqrt(quad(mass_variance_integrand,k_i,k_f, args = (Rval))[0]) for Rval in RList])\n",
    "    \n",
    "    return sigmaM / sigma8"
   ]
  },
  {
   "cell_type": "markdown",
   "id": "5fa6993a",
   "metadata": {},
   "source": [
    "$$ f_{\\rm PS} = \\sqrt{\\frac{2}{\\pi}} \\nu e^{-\\nu^2/2} $$\n",
    "with \n",
    "$$ \\nu = \\frac{\\delta_c(z)}{\\sigma(M)} $$\n",
    "where \n",
    "$$ \\delta_c(z) = \\frac{1.686}{D(z)} $$ "
   ]
  },
  {
   "cell_type": "markdown",
   "id": "8d0df8c1",
   "metadata": {},
   "source": [
    "Lastly, \n",
    "$$ n(M) \\equiv \\frac{dN}{dM} =  \\frac{1}{M} \\frac{d N}{d \\ \\rm ln M} = \\frac{\\bar{\\rho}}{M^2}f_{\\rm PS}(\\nu) \\left|\\frac{d \\ \\ln \\nu}{d \\ \\ln M}\\right| $$ "
   ]
  },
  {
   "cell_type": "markdown",
   "id": "b4082d0f",
   "metadata": {},
   "source": [
    "where I will plot  $\\frac{1}{M} \\frac{d N}{d \\ \\rm ln M} = M n(M)$.\n"
   ]
  },
  {
   "cell_type": "markdown",
   "id": "ca57e8d8",
   "metadata": {},
   "source": [
    "These relations were taken from Frank van den Bosch's lecture slides."
   ]
  },
  {
   "cell_type": "markdown",
   "id": "8c99aac0",
   "metadata": {},
   "source": [
    "### Sanity Check: Plot the Mass Variance Function"
   ]
  },
  {
   "cell_type": "code",
   "execution_count": 10,
   "id": "fb07f568",
   "metadata": {},
   "outputs": [
    {
     "name": "stdout",
     "output_type": "stream",
     "text": [
      "595221865306515.1\n"
     ]
    },
    {
     "data": {
      "image/png": "[encoded data removed]",
      "text/plain": [
       "<Figure size 500x500 with 1 Axes>"
      ]
     },
     "metadata": {},
     "output_type": "display_data"
    }
   ],
   "source": [
    "plt.figure(figsize = (5,5))\n",
    "masslist = np.logspace(11,16,40)\n",
    "mv = mass_variance(masslist)\n",
    "plt.plot(masslist,mv, zorder = 2, color = 'red', lw = 2, label = 'Calculated Mass Variance')\n",
    "plt.xscale('log'); plt.yscale('log')\n",
    "plt.axvline(convert_R_to_M(8), color = 'black', ls = '--', zorder = -5)\n",
    "plt.axhline(1, color = 'black', ls = '--', zorder = -5, label = 'Checking $\\sigma(R=8) = 1$')\n",
    "plt.xlabel('M ($h^{-1}$ Mpc)', fontsize = 15)\n",
    "plt.ylabel('$\\sigma(M)$', fontsize = 15)\n",
    "plt.legend(loc = 'lower left')\n",
    "_ = plt.gca().set_yticks([0.25,0.5,0.75,1,2,3,4,5])\n",
    "_ = plt.gca().set_yticklabels([0.25,0.5,0.75,1,2,3,4,5])\n",
    "print(convert_R_to_M(8))\n",
    "plt.savefig('MassVariance.pdf',bbox_inches = 'tight')"
   ]
  },
  {
   "cell_type": "code",
   "execution_count": 11,
   "id": "8a0990b1",
   "metadata": {},
   "outputs": [],
   "source": [
    "def delta_c(z):\n",
    "    return 1.686/growth_function_D(z) ## returns a scalar value\n",
    "\n",
    "def nu(z,Mlist):\n",
    "    return delta_c(z) / mass_variance(Mlist) ## returns a list \n",
    "\n",
    "def fps(z,Mlist):\n",
    "    return np.sqrt(2/np.pi) * nu(z,Mlist) * np.exp(-0.5 * nu(z,Mlist)**2)\n",
    "\n",
    "def mass_function(z,Mlist):\n",
    "\n",
    "    logMasses = np.log(Mlist)\n",
    "    log_nu_vals = np.log(nu(z,Mlist))\n",
    "    nu_deriv = UnivariateSpline(np.log(Mlist),log_nu_vals).derivative()\n",
    "    \n",
    "    return rhobarM_h2MsunMpc3/Mlist**2 * fps(z,Mlist) * np.gradient(log_nu_vals, logMasses)  * Mlist"
   ]
  },
  {
   "cell_type": "code",
   "execution_count": 12,
   "id": "39b3e2ba",
   "metadata": {},
   "outputs": [],
   "source": [
    "## Run Calculations\n",
    "masslist = np.logspace(11,16,40) # higher number of masses tends to produce instability in derivative\n",
    "nMz0 = mass_function(0,masslist)\n",
    "nMz1 = mass_function(1,masslist)"
   ]
  },
  {
   "cell_type": "code",
   "execution_count": 13,
   "id": "3646e3ef",
   "metadata": {},
   "outputs": [],
   "source": [
    "## Load simulated dN/dM\n",
    "simulated_z0 = pd.read_csv('./halo_z=0.txt', delim_whitespace = True)\n",
    "simulated_z1 = pd.read_csv('./halo_z=1.txt', delim_whitespace = True)"
   ]
  },
  {
   "cell_type": "code",
   "execution_count": 14,
   "id": "57663b6c",
   "metadata": {},
   "outputs": [],
   "source": [
    "counts_z0, edges_z0 = np.histogram(np.log10(simulated_z0['Mvir']), bins = 15); \n",
    "bin_centers_z0 = (edges_z0[1:] + edges_z0[:-1])/2 # get centers\n",
    "dndlnM_z0 = counts_z0 * bin_centers_z0\n",
    "\n",
    "counts_z1, edges_z1 = np.histogram(np.log10(simulated_z1['Mvir']), bins = 15); \n",
    "bin_centers_z1 = (edges_z1[1:] + edges_z1[:-1])/2 # get centers\n",
    "dndlnM_z1 = counts_z1 * bin_centers_z1 "
   ]
  },
  {
   "cell_type": "code",
   "execution_count": 15,
   "id": "d76e8117",
   "metadata": {
    "scrolled": false
   },
   "outputs": [
    {
     "data": {
      "image/png": "[encoded data removed]",
      "text/plain": [
       "<Figure size 400x400 with 1 Axes>"
      ]
     },
     "metadata": {},
     "output_type": "display_data"
    }
   ],
   "source": [
    "plt.figure(figsize = (4,4))\n",
    "plt.plot(masslist,nMz0, label = 'z=0; PS', color = 'dodgerblue')\n",
    "plt.plot(masslist,nMz1, label = 'z=1; PS', color = 'red')\n",
    "plt.scatter(10**bin_centers_z0, dndlnM_z0/1e9, color = 'black', label = '$z=0$ sim.', s = 12, zorder = 5)\n",
    "plt.scatter(10**bin_centers_z1, dndlnM_z1/1e9, color = 'black', label = '$z=1$ sim.', s = 22, \n",
    "            marker = '*',zorder = 3, edgecolor = 'black', facecolor = None)\n",
    "\n",
    "plt.xscale('log'); plt.yscale('log')\n",
    "plt.legend(loc = 'lower left')\n",
    "plt.ylabel(r'$\\frac{dN}{d \\ln M} \\ (h^{3} \\ \\rm Mpc^{-3})$', fontsize = 15)\n",
    "plt.xlabel(r'M ($h^{-1}$ Mpc)', fontsize = 15)\n",
    "plt.savefig('HMF.pdf',bbox_inches = 'tight')"
   ]
  },
  {
   "cell_type": "code",
   "execution_count": 25,
   "id": "7fdbb731",
   "metadata": {},
   "outputs": [
    {
     "name": "stdout",
     "output_type": "stream",
     "text": [
      "1.8195011514611539\n"
     ]
    }
   ],
   "source": [
    "mp = np.sum(np.sum(simulated_z0['Mvir']))/(1024)**3\n",
    "print(mp/1e10)"
   ]
  },
  {
   "cell_type": "code",
   "execution_count": 26,
   "id": "1cbc6691",
   "metadata": {},
   "outputs": [
    {
     "data": {
      "text/plain": [
       "9.018955545492192"
      ]
     },
     "execution_count": 26,
     "metadata": {},
     "output_type": "execute_result"
    }
   ],
   "source": [
    "simulated_z0['Mvir'].min() / mp"
   ]
  },
  {
   "cell_type": "code",
   "execution_count": null,
   "id": "1d652f5d",
   "metadata": {},
   "outputs": [],
   "source": []
  }
 ],
 "metadata": {
  "kernelspec": {
   "display_name": "Python 3",
   "language": "python",
   "name": "python3"
  },
  "language_info": {
   "codemirror_mode": {
    "name": "ipython",
    "version": 3
   },
   "file_extension": ".py",
   "mimetype": "text/x-python",
   "name": "python",
   "nbconvert_exporter": "python",
   "pygments_lexer": "ipython3",
   "version": "3.7.16"
  }
 },
 "nbformat": 4,
 "nbformat_minor": 5
}
